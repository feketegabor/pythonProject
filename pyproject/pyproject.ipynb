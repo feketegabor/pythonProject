{
 "cells": [
  {
   "cell_type": "code",
   "execution_count": 310,
   "metadata": {},
   "outputs": [],
   "source": [
    "#Kérdés1: Milyen érdekes összefüggések vannak európán belül az országok különböző mutatói között?\n",
    "# Szükséges könyvtárak importálása\n",
    "import numpy as np\n",
    "import pandas as pd\n",
    "import plotly.express as px\n",
    "import statsmodels.api"
   ]
  },
  {
   "cell_type": "code",
   "execution_count": 311,
   "metadata": {},
   "outputs": [],
   "source": [
    "#alapértelmezett könyvtár beállítása\n",
    "import os\n",
    "os.chdir(\"C:/Users/black/Desktop/pyproject\")"
   ]
  },
  {
   "cell_type": "code",
   "execution_count": 312,
   "metadata": {},
   "outputs": [],
   "source": [
    "# dataset megnyitása pandas segítségébel, és elmentése countries nevű DataFrame-be \n",
    "countries = pd.read_csv('factbook.csv',';')"
   ]
  },
  {
   "cell_type": "code",
   "execution_count": 313,
   "metadata": {},
   "outputs": [
    {
     "output_type": "execute_result",
     "data": {
      "text/plain": "       Country Area(sq km) Birth rate(births/1000 population)  \\\n0       String      double                             double   \n1  Afghanistan      647500                              47.02   \n2     Akrotiri         123                                NaN   \n3      Albania       28748                              15.08   \n4      Algeria     2381740                              17.13   \n\n  Current account balance Death rate(deaths/1000 population) Debt - external  \\\n0                  double                             double          double   \n1                     NaN                              20.75      8000000000   \n2                     NaN                                NaN             NaN   \n3              -504000000                               5.12      1410000000   \n4             11900000000                               4.60     21900000000   \n\n  Electricity - consumption(kWh) Electricity - production(kWh)      Exports  \\\n0                         double                        double       double   \n1                      652200000                     540000000    446000000   \n2                            NaN                           NaN          NaN   \n3                     6760000000                    5680000000    552400000   \n4                    23610000000                   25760000000  32160000000   \n\n            GDP  ... Oil - production(bbl/day) Oil - proved reserves(bbl)  \\\n0        double  ...                    double                     double   \n1   21500000000  ...                         0                          0   \n2           NaN  ...                       NaN                        NaN   \n3   17460000000  ...                      2000                  185500000   \n4  212300000000  ...                   1200000                11870000000   \n\n  Population Public debt(% of GDP) Railways(km)  \\\n0     double                double       double   \n1   29928987                   NaN          NaN   \n2        NaN                   NaN          NaN   \n3    3563112                   NaN          447   \n4   32531853                 37.40         3973   \n\n  Reserves of foreign exchange & gold Telephones - main lines in use  \\\n0                              double                         double   \n1                                 NaN                          33100   \n2                                 NaN                            NaN   \n3                          1206000000                         255000   \n4                         43550000000                        2199600   \n\n  Telephones - mobile cellular Total fertility rate(children born/woman)  \\\n0                       double                                    double   \n1                        15000                                      6.75   \n2                          NaN                                       NaN   \n3                      1100000                                      2.04   \n4                      1447310                                      1.92   \n\n  Unemployment rate(%)  \n0               double  \n1                  NaN  \n2                  NaN  \n3                14.80  \n4                25.40  \n\n[5 rows x 45 columns]",
      "text/html": "<div>\n<style scoped>\n    .dataframe tbody tr th:only-of-type {\n        vertical-align: middle;\n    }\n\n    .dataframe tbody tr th {\n        vertical-align: top;\n    }\n\n    .dataframe thead th {\n        text-align: right;\n    }\n</style>\n<table border=\"1\" class=\"dataframe\">\n  <thead>\n    <tr style=\"text-align: right;\">\n      <th></th>\n      <th>Country</th>\n      <th>Area(sq km)</th>\n      <th>Birth rate(births/1000 population)</th>\n      <th>Current account balance</th>\n      <th>Death rate(deaths/1000 population)</th>\n      <th>Debt - external</th>\n      <th>Electricity - consumption(kWh)</th>\n      <th>Electricity - production(kWh)</th>\n      <th>Exports</th>\n      <th>GDP</th>\n      <th>...</th>\n      <th>Oil - production(bbl/day)</th>\n      <th>Oil - proved reserves(bbl)</th>\n      <th>Population</th>\n      <th>Public debt(% of GDP)</th>\n      <th>Railways(km)</th>\n      <th>Reserves of foreign exchange &amp; gold</th>\n      <th>Telephones - main lines in use</th>\n      <th>Telephones - mobile cellular</th>\n      <th>Total fertility rate(children born/woman)</th>\n      <th>Unemployment rate(%)</th>\n    </tr>\n  </thead>\n  <tbody>\n    <tr>\n      <th>0</th>\n      <td>String</td>\n      <td>double</td>\n      <td>double</td>\n      <td>double</td>\n      <td>double</td>\n      <td>double</td>\n      <td>double</td>\n      <td>double</td>\n      <td>double</td>\n      <td>double</td>\n      <td>...</td>\n      <td>double</td>\n      <td>double</td>\n      <td>double</td>\n      <td>double</td>\n      <td>double</td>\n      <td>double</td>\n      <td>double</td>\n      <td>double</td>\n      <td>double</td>\n      <td>double</td>\n    </tr>\n    <tr>\n      <th>1</th>\n      <td>Afghanistan</td>\n      <td>647500</td>\n      <td>47.02</td>\n      <td>NaN</td>\n      <td>20.75</td>\n      <td>8000000000</td>\n      <td>652200000</td>\n      <td>540000000</td>\n      <td>446000000</td>\n      <td>21500000000</td>\n      <td>...</td>\n      <td>0</td>\n      <td>0</td>\n      <td>29928987</td>\n      <td>NaN</td>\n      <td>NaN</td>\n      <td>NaN</td>\n      <td>33100</td>\n      <td>15000</td>\n      <td>6.75</td>\n      <td>NaN</td>\n    </tr>\n    <tr>\n      <th>2</th>\n      <td>Akrotiri</td>\n      <td>123</td>\n      <td>NaN</td>\n      <td>NaN</td>\n      <td>NaN</td>\n      <td>NaN</td>\n      <td>NaN</td>\n      <td>NaN</td>\n      <td>NaN</td>\n      <td>NaN</td>\n      <td>...</td>\n      <td>NaN</td>\n      <td>NaN</td>\n      <td>NaN</td>\n      <td>NaN</td>\n      <td>NaN</td>\n      <td>NaN</td>\n      <td>NaN</td>\n      <td>NaN</td>\n      <td>NaN</td>\n      <td>NaN</td>\n    </tr>\n    <tr>\n      <th>3</th>\n      <td>Albania</td>\n      <td>28748</td>\n      <td>15.08</td>\n      <td>-504000000</td>\n      <td>5.12</td>\n      <td>1410000000</td>\n      <td>6760000000</td>\n      <td>5680000000</td>\n      <td>552400000</td>\n      <td>17460000000</td>\n      <td>...</td>\n      <td>2000</td>\n      <td>185500000</td>\n      <td>3563112</td>\n      <td>NaN</td>\n      <td>447</td>\n      <td>1206000000</td>\n      <td>255000</td>\n      <td>1100000</td>\n      <td>2.04</td>\n      <td>14.80</td>\n    </tr>\n    <tr>\n      <th>4</th>\n      <td>Algeria</td>\n      <td>2381740</td>\n      <td>17.13</td>\n      <td>11900000000</td>\n      <td>4.60</td>\n      <td>21900000000</td>\n      <td>23610000000</td>\n      <td>25760000000</td>\n      <td>32160000000</td>\n      <td>212300000000</td>\n      <td>...</td>\n      <td>1200000</td>\n      <td>11870000000</td>\n      <td>32531853</td>\n      <td>37.40</td>\n      <td>3973</td>\n      <td>43550000000</td>\n      <td>2199600</td>\n      <td>1447310</td>\n      <td>1.92</td>\n      <td>25.40</td>\n    </tr>\n  </tbody>\n</table>\n<p>5 rows × 45 columns</p>\n</div>"
     },
     "metadata": {},
     "execution_count": 313
    }
   ],
   "source": [
    "countries.head()"
   ]
  },
  {
   "cell_type": "code",
   "execution_count": 314,
   "metadata": {},
   "outputs": [
    {
     "output_type": "stream",
     "name": "stdout",
     "text": "<class 'pandas.core.frame.DataFrame'>\nRangeIndex: 264 entries, 0 to 263\nData columns (total 45 columns):\n #   Column                                          Non-Null Count  Dtype \n---  ------                                          --------------  ----- \n 0   Country                                         264 non-null    object\n 1   Area(sq km)                                     264 non-null    object\n 2   Birth rate(births/1000 population)              226 non-null    object\n 3   Current account balance                         150 non-null    object\n 4   Death rate(deaths/1000 population)              226 non-null    object\n 5   Debt - external                                 202 non-null    object\n 6   Electricity - consumption(kWh)                  216 non-null    object\n 7   Electricity - production(kWh)                   214 non-null    object\n 8   Exports                                         225 non-null    object\n 9   GDP                                             231 non-null    object\n 10  GDP - per capita                                231 non-null    object\n 11  GDP - real growth rate(%)                       213 non-null    object\n 12  HIV/AIDS - adult prevalence rate(%)             169 non-null    object\n 13  HIV/AIDS - deaths                               149 non-null    object\n 14  HIV/AIDS - people living with HIV/AIDS          165 non-null    object\n 15  Highways(km)                                    231 non-null    object\n 16  Imports                                         225 non-null    object\n 17  Industrial production growth rate(%)            165 non-null    object\n 18  Infant mortality rate(deaths/1000 live births)  226 non-null    object\n 19  Inflation rate (consumer prices)(%)             223 non-null    object\n 20  Internet hosts                                  192 non-null    object\n 21  Internet users                                  217 non-null    object\n 22  Investment (gross fixed)(% of GDP)              147 non-null    object\n 23  Labor force                                     215 non-null    object\n 24  Life expectancy at birth(years)                 226 non-null    object\n 25  Military expenditures - dollar figure           171 non-null    object\n 26  Military expenditures - percent of GDP(%)       166 non-null    object\n 27  Natural gas - consumption(cu m)                 109 non-null    object\n 28  Natural gas - exports(cu m)                     109 non-null    object\n 29  Natural gas - imports(cu m)                     109 non-null    object\n 30  Natural gas - production(cu m)                  108 non-null    object\n 31  Natural gas - proved reserves(cu m)             98 non-null     object\n 32  Oil - consumption(bbl/day)                      213 non-null    object\n 33  Oil - exports(bbl/day)                          59 non-null     object\n 34  Oil - imports(bbl/day)                          47 non-null     object\n 35  Oil - production(bbl/day)                       213 non-null    object\n 36  Oil - proved reserves(bbl)                      98 non-null     object\n 37  Population                                      239 non-null    object\n 38  Public debt(% of GDP)                           109 non-null    object\n 39  Railways(km)                                    135 non-null    object\n 40  Reserves of foreign exchange & gold             148 non-null    object\n 41  Telephones - main lines in use                  233 non-null    object\n 42  Telephones - mobile cellular                    229 non-null    object\n 43  Total fertility rate(children born/woman)       226 non-null    object\n 44  Unemployment rate(%)                            193 non-null    object\ndtypes: object(45)\nmemory usage: 92.9+ KB\n"
    }
   ],
   "source": [
    "countries.info()"
   ]
  },
  {
   "cell_type": "code",
   "execution_count": 315,
   "metadata": {},
   "outputs": [],
   "source": [
    "#európai országokat tartalmazó csv fájl megnyitása (https://en.wikipedia.org/wiki/List_of_European_countries_by_area)\n",
    "european_countries = pd.read_csv('european_countries.csv',';')"
   ]
  },
  {
   "cell_type": "code",
   "execution_count": 316,
   "metadata": {},
   "outputs": [
    {
     "output_type": "execute_result",
     "data": {
      "text/plain": "   Id    State\n0   1   Russia\n1   2  Ukraine\n2   3   France\n3   4    Spain\n4   5   Sweden",
      "text/html": "<div>\n<style scoped>\n    .dataframe tbody tr th:only-of-type {\n        vertical-align: middle;\n    }\n\n    .dataframe tbody tr th {\n        vertical-align: top;\n    }\n\n    .dataframe thead th {\n        text-align: right;\n    }\n</style>\n<table border=\"1\" class=\"dataframe\">\n  <thead>\n    <tr style=\"text-align: right;\">\n      <th></th>\n      <th>Id</th>\n      <th>State</th>\n    </tr>\n  </thead>\n  <tbody>\n    <tr>\n      <th>0</th>\n      <td>1</td>\n      <td>Russia</td>\n    </tr>\n    <tr>\n      <th>1</th>\n      <td>2</td>\n      <td>Ukraine</td>\n    </tr>\n    <tr>\n      <th>2</th>\n      <td>3</td>\n      <td>France</td>\n    </tr>\n    <tr>\n      <th>3</th>\n      <td>4</td>\n      <td>Spain</td>\n    </tr>\n    <tr>\n      <th>4</th>\n      <td>5</td>\n      <td>Sweden</td>\n    </tr>\n  </tbody>\n</table>\n</div>"
     },
     "metadata": {},
     "execution_count": 316
    }
   ],
   "source": [
    "european_countries.head()"
   ]
  },
  {
   "cell_type": "code",
   "execution_count": 317,
   "metadata": {},
   "outputs": [
    {
     "output_type": "stream",
     "name": "stdout",
     "text": "<class 'pandas.core.frame.DataFrame'>\nRangeIndex: 51 entries, 0 to 50\nData columns (total 2 columns):\n #   Column  Non-Null Count  Dtype \n---  ------  --------------  ----- \n 0   Id      51 non-null     int64 \n 1   State   51 non-null     object\ndtypes: int64(1), object(1)\nmemory usage: 944.0+ bytes\n"
    }
   ],
   "source": [
    "european_countries.info()"
   ]
  },
  {
   "cell_type": "code",
   "execution_count": 318,
   "metadata": {},
   "outputs": [],
   "source": [
    "# csak az országneveket tartalmazó oszlop megtartása \n",
    "european_countries = european_countries.loc[:,['State']]"
   ]
  },
  {
   "cell_type": "code",
   "execution_count": 319,
   "metadata": {},
   "outputs": [],
   "source": [
    "# oszlop átnevezése\n",
    "european_countries.columns = ['Country']"
   ]
  },
  {
   "cell_type": "code",
   "execution_count": 320,
   "metadata": {},
   "outputs": [],
   "source": [
    "# adattípust tartalmazó sor törlése\n",
    "countries = countries.drop([0],axis=0)"
   ]
  },
  {
   "cell_type": "code",
   "execution_count": 321,
   "metadata": {},
   "outputs": [
    {
     "output_type": "execute_result",
     "data": {
      "text/plain": "       Country Area(sq km) Birth rate(births/1000 population)  \\\ncount      263         263                                225   \nunique     263         252                                218   \ntop      Italy           5                              16.83   \nfreq         1           5                                  3   \n\n       Current account balance Death rate(deaths/1000 population)  \\\ncount                      149                                225   \nunique                     149                                210   \ntop                  203200000                               6.26   \nfreq                         1                                  3   \n\n       Debt - external Electricity - consumption(kWh)  \\\ncount              201                            215   \nunique             188                            212   \ntop                  0                        4650000   \nfreq                 5                              2   \n\n       Electricity - production(kWh)   Exports         GDP  ...  \\\ncount                            213       224         230  ...   \nunique                           208       220         228  ...   \ntop                         43080000  38000000  1000000000  ...   \nfreq                               2         2           2  ...   \n\n       Oil - production(bbl/day) Oil - proved reserves(bbl) Population  \\\ncount                        212                         97        238   \nunique                        94                         87        237   \ntop                            0                          0        361   \nfreq                         114                          8          2   \n\n       Public debt(% of GDP) Railways(km) Reserves of foreign exchange & gold  \\\ncount                    108          134                                 147   \nunique                   104          133                                 146   \ntop                    41.70          699                          1206000000   \nfreq                       2            2                                   2   \n\n       Telephones - main lines in use Telephones - mobile cellular  \\\ncount                             232                          228   \nunique                            222                          213   \ntop                              7000                            0   \nfreq                                3                            8   \n\n       Total fertility rate(children born/woman) Unemployment rate(%)  \ncount                                        225                  192  \nunique                                       166                  124  \ntop                                         1.39                15.00  \nfreq                                           6                    6  \n\n[4 rows x 45 columns]",
      "text/html": "<div>\n<style scoped>\n    .dataframe tbody tr th:only-of-type {\n        vertical-align: middle;\n    }\n\n    .dataframe tbody tr th {\n        vertical-align: top;\n    }\n\n    .dataframe thead th {\n        text-align: right;\n    }\n</style>\n<table border=\"1\" class=\"dataframe\">\n  <thead>\n    <tr style=\"text-align: right;\">\n      <th></th>\n      <th>Country</th>\n      <th>Area(sq km)</th>\n      <th>Birth rate(births/1000 population)</th>\n      <th>Current account balance</th>\n      <th>Death rate(deaths/1000 population)</th>\n      <th>Debt - external</th>\n      <th>Electricity - consumption(kWh)</th>\n      <th>Electricity - production(kWh)</th>\n      <th>Exports</th>\n      <th>GDP</th>\n      <th>...</th>\n      <th>Oil - production(bbl/day)</th>\n      <th>Oil - proved reserves(bbl)</th>\n      <th>Population</th>\n      <th>Public debt(% of GDP)</th>\n      <th>Railways(km)</th>\n      <th>Reserves of foreign exchange &amp; gold</th>\n      <th>Telephones - main lines in use</th>\n      <th>Telephones - mobile cellular</th>\n      <th>Total fertility rate(children born/woman)</th>\n      <th>Unemployment rate(%)</th>\n    </tr>\n  </thead>\n  <tbody>\n    <tr>\n      <th>count</th>\n      <td>263</td>\n      <td>263</td>\n      <td>225</td>\n      <td>149</td>\n      <td>225</td>\n      <td>201</td>\n      <td>215</td>\n      <td>213</td>\n      <td>224</td>\n      <td>230</td>\n      <td>...</td>\n      <td>212</td>\n      <td>97</td>\n      <td>238</td>\n      <td>108</td>\n      <td>134</td>\n      <td>147</td>\n      <td>232</td>\n      <td>228</td>\n      <td>225</td>\n      <td>192</td>\n    </tr>\n    <tr>\n      <th>unique</th>\n      <td>263</td>\n      <td>252</td>\n      <td>218</td>\n      <td>149</td>\n      <td>210</td>\n      <td>188</td>\n      <td>212</td>\n      <td>208</td>\n      <td>220</td>\n      <td>228</td>\n      <td>...</td>\n      <td>94</td>\n      <td>87</td>\n      <td>237</td>\n      <td>104</td>\n      <td>133</td>\n      <td>146</td>\n      <td>222</td>\n      <td>213</td>\n      <td>166</td>\n      <td>124</td>\n    </tr>\n    <tr>\n      <th>top</th>\n      <td>Italy</td>\n      <td>5</td>\n      <td>16.83</td>\n      <td>203200000</td>\n      <td>6.26</td>\n      <td>0</td>\n      <td>4650000</td>\n      <td>43080000</td>\n      <td>38000000</td>\n      <td>1000000000</td>\n      <td>...</td>\n      <td>0</td>\n      <td>0</td>\n      <td>361</td>\n      <td>41.70</td>\n      <td>699</td>\n      <td>1206000000</td>\n      <td>7000</td>\n      <td>0</td>\n      <td>1.39</td>\n      <td>15.00</td>\n    </tr>\n    <tr>\n      <th>freq</th>\n      <td>1</td>\n      <td>5</td>\n      <td>3</td>\n      <td>1</td>\n      <td>3</td>\n      <td>5</td>\n      <td>2</td>\n      <td>2</td>\n      <td>2</td>\n      <td>2</td>\n      <td>...</td>\n      <td>114</td>\n      <td>8</td>\n      <td>2</td>\n      <td>2</td>\n      <td>2</td>\n      <td>2</td>\n      <td>3</td>\n      <td>8</td>\n      <td>6</td>\n      <td>6</td>\n    </tr>\n  </tbody>\n</table>\n<p>4 rows × 45 columns</p>\n</div>"
     },
     "metadata": {},
     "execution_count": 321
    }
   ],
   "source": [
    "countries.describe() "
   ]
  },
  {
   "cell_type": "code",
   "execution_count": 322,
   "metadata": {},
   "outputs": [],
   "source": [
    "# Létrehozok egy új DataFramet, amiben csak európai országok vannak, és a hozzátartozó adatok\n",
    "european_data = pd.merge(european_countries, countries, how='inner', on='Country')"
   ]
  },
  {
   "cell_type": "code",
   "execution_count": 323,
   "metadata": {},
   "outputs": [],
   "source": [
    "# Megkeresem azokat az országokat, amik nem kerültek bele az összekapcsolt DataFrame-be\n",
    "european_missing = pd.concat([european_countries.Country, european_data.Country]).drop_duplicates(keep=False)"
   ]
  },
  {
   "cell_type": "code",
   "execution_count": 324,
   "metadata": {},
   "outputs": [],
   "source": [
    "# Megoldom a kimaradt országok problémáját\n",
    "# Nincsen a countries-ban Vatikán és Koszovó, ezért ezeket kihagyom\n",
    "# Serbia és Montenegró egyben van a countries-ban, de külön az european_countries-ban\n",
    "# Csehország és Macedónia nem volt egységesen elnevezve a két DF-ben.\n",
    "countries['Country'] = countries['Country'].replace('Czech Republic', 'Czechia')\n",
    "countries['Country'] = countries['Country'].replace('Macedonia', 'North Macedonia')\n",
    "european_countries['Country'] = european_countries['Country'].replace('Serbia', 'Serbia and Montenegro')\n",
    "european_countries = european_countries[european_countries['Country']!=\"Montenegro\"]"
   ]
  },
  {
   "cell_type": "code",
   "execution_count": 325,
   "metadata": {},
   "outputs": [],
   "source": [
    "# Újra\n",
    "european_data = pd.merge(european_countries, countries, how='inner', on='Country')"
   ]
  },
  {
   "cell_type": "code",
   "execution_count": 326,
   "metadata": {},
   "outputs": [
    {
     "output_type": "stream",
     "name": "stdout",
     "text": "<class 'pandas.core.frame.DataFrame'>\nInt64Index: 48 entries, 0 to 47\nData columns (total 45 columns):\n #   Column                                          Non-Null Count  Dtype \n---  ------                                          --------------  ----- \n 0   Country                                         48 non-null     object\n 1   Area(sq km)                                     48 non-null     object\n 2   Birth rate(births/1000 population)              48 non-null     object\n 3   Current account balance                         43 non-null     object\n 4   Death rate(deaths/1000 population)              48 non-null     object\n 5   Debt - external                                 41 non-null     object\n 6   Electricity - consumption(kWh)                  44 non-null     object\n 7   Electricity - production(kWh)                   44 non-null     object\n 8   Exports                                         46 non-null     object\n 9   GDP                                             48 non-null     object\n 10  GDP - per capita                                48 non-null     object\n 11  GDP - real growth rate(%)                       48 non-null     object\n 12  HIV/AIDS - adult prevalence rate(%)             43 non-null     object\n 13  HIV/AIDS - deaths                               41 non-null     object\n 14  HIV/AIDS - people living with HIV/AIDS          42 non-null     object\n 15  Highways(km)                                    48 non-null     object\n 16  Imports                                         46 non-null     object\n 17  Industrial production growth rate(%)            44 non-null     object\n 18  Infant mortality rate(deaths/1000 live births)  48 non-null     object\n 19  Inflation rate (consumer prices)(%)             48 non-null     object\n 20  Internet hosts                                  48 non-null     object\n 21  Internet users                                  48 non-null     object\n 22  Investment (gross fixed)(% of GDP)              43 non-null     object\n 23  Labor force                                     48 non-null     object\n 24  Life expectancy at birth(years)                 48 non-null     object\n 25  Military expenditures - dollar figure           43 non-null     object\n 26  Military expenditures - percent of GDP(%)       41 non-null     object\n 27  Natural gas - consumption(cu m)                 40 non-null     object\n 28  Natural gas - exports(cu m)                     40 non-null     object\n 29  Natural gas - imports(cu m)                     40 non-null     object\n 30  Natural gas - production(cu m)                  40 non-null     object\n 31  Natural gas - proved reserves(cu m)             25 non-null     object\n 32  Oil - consumption(bbl/day)                      44 non-null     object\n 33  Oil - exports(bbl/day)                          26 non-null     object\n 34  Oil - imports(bbl/day)                          25 non-null     object\n 35  Oil - production(bbl/day)                       44 non-null     object\n 36  Oil - proved reserves(bbl)                      25 non-null     object\n 37  Population                                      48 non-null     object\n 38  Public debt(% of GDP)                           37 non-null     object\n 39  Railways(km)                                    41 non-null     object\n 40  Reserves of foreign exchange & gold             42 non-null     object\n 41  Telephones - main lines in use                  48 non-null     object\n 42  Telephones - mobile cellular                    48 non-null     object\n 43  Total fertility rate(children born/woman)       48 non-null     object\n 44  Unemployment rate(%)                            48 non-null     object\ndtypes: object(45)\nmemory usage: 17.2+ KB\n"
    }
   ],
   "source": [
    "european_data.info()"
   ]
  },
  {
   "cell_type": "code",
   "execution_count": 327,
   "metadata": {},
   "outputs": [],
   "source": [
    "# Csak a számomra érdekes oszlopok megtartása\n",
    "european_data = european_data.iloc[:,[0,1,9,10,11,19,24,37,43,44]]"
   ]
  },
  {
   "cell_type": "code",
   "execution_count": 328,
   "metadata": {},
   "outputs": [],
   "source": [
    "# Oszlopok nevének leegyszerűsítése\n",
    "european_data.columns = ['country', 'area', 'GDP', 'GDP_percapita', 'GDP_real_gr', 'inflation', 'life_exp', 'population', 'fertility', 'unemp']"
   ]
  },
  {
   "cell_type": "code",
   "execution_count": 329,
   "metadata": {},
   "outputs": [],
   "source": [
    "# Egész számadatokat tároló oszlopok int-é kovertálása\n",
    "european_data['population'] = european_data['population'].astype(int)\n",
    "european_data['area'] = european_data['area'].astype(int)\n",
    "european_data['GDP_percapita'] = european_data['GDP_percapita'].astype(int)"
   ]
  },
  {
   "cell_type": "code",
   "execution_count": 330,
   "metadata": {},
   "outputs": [],
   "source": [
    "#A GDP oszlop meghaladta az int32 értékkészletét, ezért int64-é kell konvertálni, amit az astype(int) nem tud, a pd.to_numeric pedig igen\n",
    "european_data['GDP'] = pd.to_numeric(european_data['GDP'])"
   ]
  },
  {
   "cell_type": "code",
   "execution_count": 331,
   "metadata": {},
   "outputs": [],
   "source": [
    "european_data['GDP_real_gr'] = european_data['GDP_real_gr'].astype(float)\n",
    "european_data['inflation'] = european_data['inflation'].astype(float)\n",
    "european_data['GDP_percapita'] = european_data['GDP_percapita'].astype(float)\n",
    "european_data['life_exp'] = european_data['life_exp'].astype(float)\n",
    "european_data['fertility'] = european_data['fertility'].astype(float)\n",
    "european_data['unemp'] = european_data['unemp'].astype(float)"
   ]
  },
  {
   "cell_type": "code",
   "execution_count": 332,
   "metadata": {},
   "outputs": [
    {
     "output_type": "stream",
     "name": "stdout",
     "text": "<class 'pandas.core.frame.DataFrame'>\nInt64Index: 48 entries, 0 to 47\nData columns (total 10 columns):\n #   Column         Non-Null Count  Dtype  \n---  ------         --------------  -----  \n 0   country        48 non-null     object \n 1   area           48 non-null     int32  \n 2   GDP            48 non-null     int64  \n 3   GDP_percapita  48 non-null     float64\n 4   GDP_real_gr    48 non-null     float64\n 5   inflation      48 non-null     float64\n 6   life_exp       48 non-null     float64\n 7   population     48 non-null     int32  \n 8   fertility      48 non-null     float64\n 9   unemp          48 non-null     float64\ndtypes: float64(6), int32(2), int64(1), object(1)\nmemory usage: 3.8+ KB\n"
    }
   ],
   "source": [
    "european_data.info()"
   ]
  },
  {
   "cell_type": "code",
   "execution_count": 333,
   "metadata": {},
   "outputs": [
    {
     "output_type": "execute_result",
     "data": {
      "text/plain": "               area           GDP  GDP_percapita  GDP_real_gr  inflation  \\\ncount  4.800000e+01  4.800000e+01      48.000000    48.000000  48.000000   \nmean   5.554901e+05  3.109192e+11   18938.229167     4.687500   4.133333   \nstd    2.469764e+06  5.454169e+11   12392.400790     2.935014   3.644485   \nmin    2.000000e+00  8.250000e+08    1900.000000     0.900000   0.400000   \n25%    3.301425e+04  1.878750e+10    7625.000000     2.100000   1.750000   \n50%    7.457300e+04  9.864500e+10   17350.000000     3.800000   2.950000   \n75%    2.589225e+05  2.555250e+11   28775.000000     6.625000   5.625000   \nmax    1.707520e+07  2.362000e+12   58900.000000    12.000000  17.400000   \n\n        life_exp    population  fertility      unemp  \ncount  48.000000  4.800000e+01  48.000000  48.000000  \nmean   75.549792  1.729864e+07   1.548958  10.172917  \nstd     4.669452  2.777772e+07   0.267425   9.114187  \nmin    63.350000  2.888000e+04   1.190000   0.000000  \n25%    72.390000  2.809737e+06   1.330000   4.475000  \n50%    77.385000  6.441342e+06   1.445000   8.000000  \n75%    78.962500  1.191834e+07   1.745000  10.950000  \nmax    83.510000  1.434203e+08   2.440000  44.000000  ",
      "text/html": "<div>\n<style scoped>\n    .dataframe tbody tr th:only-of-type {\n        vertical-align: middle;\n    }\n\n    .dataframe tbody tr th {\n        vertical-align: top;\n    }\n\n    .dataframe thead th {\n        text-align: right;\n    }\n</style>\n<table border=\"1\" class=\"dataframe\">\n  <thead>\n    <tr style=\"text-align: right;\">\n      <th></th>\n      <th>area</th>\n      <th>GDP</th>\n      <th>GDP_percapita</th>\n      <th>GDP_real_gr</th>\n      <th>inflation</th>\n      <th>life_exp</th>\n      <th>population</th>\n      <th>fertility</th>\n      <th>unemp</th>\n    </tr>\n  </thead>\n  <tbody>\n    <tr>\n      <th>count</th>\n      <td>4.800000e+01</td>\n      <td>4.800000e+01</td>\n      <td>48.000000</td>\n      <td>48.000000</td>\n      <td>48.000000</td>\n      <td>48.000000</td>\n      <td>4.800000e+01</td>\n      <td>48.000000</td>\n      <td>48.000000</td>\n    </tr>\n    <tr>\n      <th>mean</th>\n      <td>5.554901e+05</td>\n      <td>3.109192e+11</td>\n      <td>18938.229167</td>\n      <td>4.687500</td>\n      <td>4.133333</td>\n      <td>75.549792</td>\n      <td>1.729864e+07</td>\n      <td>1.548958</td>\n      <td>10.172917</td>\n    </tr>\n    <tr>\n      <th>std</th>\n      <td>2.469764e+06</td>\n      <td>5.454169e+11</td>\n      <td>12392.400790</td>\n      <td>2.935014</td>\n      <td>3.644485</td>\n      <td>4.669452</td>\n      <td>2.777772e+07</td>\n      <td>0.267425</td>\n      <td>9.114187</td>\n    </tr>\n    <tr>\n      <th>min</th>\n      <td>2.000000e+00</td>\n      <td>8.250000e+08</td>\n      <td>1900.000000</td>\n      <td>0.900000</td>\n      <td>0.400000</td>\n      <td>63.350000</td>\n      <td>2.888000e+04</td>\n      <td>1.190000</td>\n      <td>0.000000</td>\n    </tr>\n    <tr>\n      <th>25%</th>\n      <td>3.301425e+04</td>\n      <td>1.878750e+10</td>\n      <td>7625.000000</td>\n      <td>2.100000</td>\n      <td>1.750000</td>\n      <td>72.390000</td>\n      <td>2.809737e+06</td>\n      <td>1.330000</td>\n      <td>4.475000</td>\n    </tr>\n    <tr>\n      <th>50%</th>\n      <td>7.457300e+04</td>\n      <td>9.864500e+10</td>\n      <td>17350.000000</td>\n      <td>3.800000</td>\n      <td>2.950000</td>\n      <td>77.385000</td>\n      <td>6.441342e+06</td>\n      <td>1.445000</td>\n      <td>8.000000</td>\n    </tr>\n    <tr>\n      <th>75%</th>\n      <td>2.589225e+05</td>\n      <td>2.555250e+11</td>\n      <td>28775.000000</td>\n      <td>6.625000</td>\n      <td>5.625000</td>\n      <td>78.962500</td>\n      <td>1.191834e+07</td>\n      <td>1.745000</td>\n      <td>10.950000</td>\n    </tr>\n    <tr>\n      <th>max</th>\n      <td>1.707520e+07</td>\n      <td>2.362000e+12</td>\n      <td>58900.000000</td>\n      <td>12.000000</td>\n      <td>17.400000</td>\n      <td>83.510000</td>\n      <td>1.434203e+08</td>\n      <td>2.440000</td>\n      <td>44.000000</td>\n    </tr>\n  </tbody>\n</table>\n</div>"
     },
     "metadata": {},
     "execution_count": 333
    }
   ],
   "source": [
    "#Kérdés szempontjából releváns mutatók lekérdezése\n",
    "european_data.describe()"
   ]
  },
  {
   "cell_type": "code",
   "execution_count": 334,
   "metadata": {},
   "outputs": [],
   "source": [
    "# várható élettartamról az európai országokban dobozdiagramm készítés\n",
    "fig = px.box(european_data, y='life_exp', title='Várható élettartam az európai országokban')\n",
    "fig.show(renderer='browser')"
   ]
  },
  {
   "cell_type": "code",
   "execution_count": 335,
   "metadata": {},
   "outputs": [
    {
     "output_type": "execute_result",
     "data": {
      "text/plain": "                   area       GDP  GDP_percapita  GDP_real_gr  inflation  \\\narea           1.000000  0.322961      -0.127906     0.142265   0.327017   \nGDP            0.322961  1.000000       0.224117    -0.251405  -0.075088   \nGDP_percapita -0.127906  0.224117       1.000000    -0.565916  -0.537857   \nGDP_real_gr    0.142265 -0.251405      -0.565916     1.000000   0.534410   \ninflation      0.327017 -0.075088      -0.537857     0.534410   1.000000   \nlife_exp      -0.310948  0.152408       0.725047    -0.658511  -0.676664   \npopulation     0.702542  0.824702      -0.047524     0.049447   0.273456   \nfertility     -0.117929 -0.097058       0.042268     0.024543  -0.099162   \nunemp         -0.043626 -0.090332      -0.401267    -0.001349  -0.121394   \n\n               life_exp  population  fertility     unemp  \narea          -0.310948    0.702542  -0.117929 -0.043626  \nGDP            0.152408    0.824702  -0.097058 -0.090332  \nGDP_percapita  0.725047   -0.047524   0.042268 -0.401267  \nGDP_real_gr   -0.658511    0.049447   0.024543 -0.001349  \ninflation     -0.676664    0.273456  -0.099162 -0.121394  \nlife_exp       1.000000   -0.174384  -0.114028 -0.138591  \npopulation    -0.174384    1.000000  -0.113643 -0.063737  \nfertility     -0.114028   -0.113643   1.000000 -0.021923  \nunemp         -0.138591   -0.063737  -0.021923  1.000000  ",
      "text/html": "<div>\n<style scoped>\n    .dataframe tbody tr th:only-of-type {\n        vertical-align: middle;\n    }\n\n    .dataframe tbody tr th {\n        vertical-align: top;\n    }\n\n    .dataframe thead th {\n        text-align: right;\n    }\n</style>\n<table border=\"1\" class=\"dataframe\">\n  <thead>\n    <tr style=\"text-align: right;\">\n      <th></th>\n      <th>area</th>\n      <th>GDP</th>\n      <th>GDP_percapita</th>\n      <th>GDP_real_gr</th>\n      <th>inflation</th>\n      <th>life_exp</th>\n      <th>population</th>\n      <th>fertility</th>\n      <th>unemp</th>\n    </tr>\n  </thead>\n  <tbody>\n    <tr>\n      <th>area</th>\n      <td>1.000000</td>\n      <td>0.322961</td>\n      <td>-0.127906</td>\n      <td>0.142265</td>\n      <td>0.327017</td>\n      <td>-0.310948</td>\n      <td>0.702542</td>\n      <td>-0.117929</td>\n      <td>-0.043626</td>\n    </tr>\n    <tr>\n      <th>GDP</th>\n      <td>0.322961</td>\n      <td>1.000000</td>\n      <td>0.224117</td>\n      <td>-0.251405</td>\n      <td>-0.075088</td>\n      <td>0.152408</td>\n      <td>0.824702</td>\n      <td>-0.097058</td>\n      <td>-0.090332</td>\n    </tr>\n    <tr>\n      <th>GDP_percapita</th>\n      <td>-0.127906</td>\n      <td>0.224117</td>\n      <td>1.000000</td>\n      <td>-0.565916</td>\n      <td>-0.537857</td>\n      <td>0.725047</td>\n      <td>-0.047524</td>\n      <td>0.042268</td>\n      <td>-0.401267</td>\n    </tr>\n    <tr>\n      <th>GDP_real_gr</th>\n      <td>0.142265</td>\n      <td>-0.251405</td>\n      <td>-0.565916</td>\n      <td>1.000000</td>\n      <td>0.534410</td>\n      <td>-0.658511</td>\n      <td>0.049447</td>\n      <td>0.024543</td>\n      <td>-0.001349</td>\n    </tr>\n    <tr>\n      <th>inflation</th>\n      <td>0.327017</td>\n      <td>-0.075088</td>\n      <td>-0.537857</td>\n      <td>0.534410</td>\n      <td>1.000000</td>\n      <td>-0.676664</td>\n      <td>0.273456</td>\n      <td>-0.099162</td>\n      <td>-0.121394</td>\n    </tr>\n    <tr>\n      <th>life_exp</th>\n      <td>-0.310948</td>\n      <td>0.152408</td>\n      <td>0.725047</td>\n      <td>-0.658511</td>\n      <td>-0.676664</td>\n      <td>1.000000</td>\n      <td>-0.174384</td>\n      <td>-0.114028</td>\n      <td>-0.138591</td>\n    </tr>\n    <tr>\n      <th>population</th>\n      <td>0.702542</td>\n      <td>0.824702</td>\n      <td>-0.047524</td>\n      <td>0.049447</td>\n      <td>0.273456</td>\n      <td>-0.174384</td>\n      <td>1.000000</td>\n      <td>-0.113643</td>\n      <td>-0.063737</td>\n    </tr>\n    <tr>\n      <th>fertility</th>\n      <td>-0.117929</td>\n      <td>-0.097058</td>\n      <td>0.042268</td>\n      <td>0.024543</td>\n      <td>-0.099162</td>\n      <td>-0.114028</td>\n      <td>-0.113643</td>\n      <td>1.000000</td>\n      <td>-0.021923</td>\n    </tr>\n    <tr>\n      <th>unemp</th>\n      <td>-0.043626</td>\n      <td>-0.090332</td>\n      <td>-0.401267</td>\n      <td>-0.001349</td>\n      <td>-0.121394</td>\n      <td>-0.138591</td>\n      <td>-0.063737</td>\n      <td>-0.021923</td>\n      <td>1.000000</td>\n    </tr>\n  </tbody>\n</table>\n</div>"
     },
     "metadata": {},
     "execution_count": 335
    }
   ],
   "source": [
    "# korrelációs mátrix létrehozása\n",
    "european_data.loc[:,:].corr()"
   ]
  },
  {
   "cell_type": "code",
   "execution_count": 336,
   "metadata": {},
   "outputs": [],
   "source": [
    "fig2 = px.scatter(european_data, x='GDP_percapita', y='life_exp', trendline='ols', text='country', title='Várható élettartam és az egy főre jutó GDP kapcsolata') #pontdiagramm létrehozása\n",
    "fig2.update_traces(textposition='top center') #szöveg a pont fölé kerüljön\n",
    "fig2.update_layout(shapes=[\n",
    "    dict(\n",
    "      type= 'line',\n",
    "      yref= 'y', y0= 75.549792, y1= 75.549792,\n",
    "      xref= 'paper', x0= 0, x1= 1\n",
    "    )\n",
    "])#hozzáadok a diagrammhoz egy új vonalat, ami az átlagéletkort jelöli\n",
    "fig2.show(renderer='browser')"
   ]
  },
  {
   "cell_type": "code",
   "execution_count": 337,
   "metadata": {},
   "outputs": [
    {
     "output_type": "execute_result",
     "data": {
      "text/plain": "    country   area           GDP  GDP_percapita  GDP_real_gr  inflation  \\\n17  Hungary  93030  149300000000        14900.0          3.9        7.0   \n\n    life_exp  population  fertility  unemp  \n17      72.4    10006835       1.32    5.9  ",
      "text/html": "<div>\n<style scoped>\n    .dataframe tbody tr th:only-of-type {\n        vertical-align: middle;\n    }\n\n    .dataframe tbody tr th {\n        vertical-align: top;\n    }\n\n    .dataframe thead th {\n        text-align: right;\n    }\n</style>\n<table border=\"1\" class=\"dataframe\">\n  <thead>\n    <tr style=\"text-align: right;\">\n      <th></th>\n      <th>country</th>\n      <th>area</th>\n      <th>GDP</th>\n      <th>GDP_percapita</th>\n      <th>GDP_real_gr</th>\n      <th>inflation</th>\n      <th>life_exp</th>\n      <th>population</th>\n      <th>fertility</th>\n      <th>unemp</th>\n    </tr>\n  </thead>\n  <tbody>\n    <tr>\n      <th>17</th>\n      <td>Hungary</td>\n      <td>93030</td>\n      <td>149300000000</td>\n      <td>14900.0</td>\n      <td>3.9</td>\n      <td>7.0</td>\n      <td>72.4</td>\n      <td>10006835</td>\n      <td>1.32</td>\n      <td>5.9</td>\n    </tr>\n  </tbody>\n</table>\n</div>"
     },
     "metadata": {},
     "execution_count": 337
    }
   ],
   "source": [
    "european_data.loc[european_data['country']=='Hungary']"
   ]
  },
  {
   "cell_type": "code",
   "execution_count": 338,
   "metadata": {},
   "outputs": [],
   "source": [
    "# Magyarországnál alacsonyabb GDP-vel rendelkező országokat elnevezem \"Other countries\"-ként\n",
    "european_data.loc[european_data['GDP'] < 149300000000, 'country'] = 'Other countries'\n",
    "# european_data.groupby('country')['GDP'].sum()"
   ]
  },
  {
   "cell_type": "code",
   "execution_count": 339,
   "metadata": {},
   "outputs": [],
   "source": [
    "# Kördiagrammon ábrázolom az Európai országok GDP eloszlását\n",
    "fig3 = px.pie(european_data, values='GDP', names='country', title='Európa GDP eloszlása országok szerint')\n",
    "fig3.show(renderer='browser')"
   ]
  },
  {
   "cell_type": "code",
   "execution_count": null,
   "metadata": {},
   "outputs": [],
   "source": []
  }
 ],
 "metadata": {
  "language_info": {
   "codemirror_mode": {
    "name": "ipython",
    "version": 3
   },
   "file_extension": ".py",
   "mimetype": "text/x-python",
   "name": "python",
   "nbconvert_exporter": "python",
   "pygments_lexer": "ipython3",
   "version": "3.8.2-final"
  },
  "orig_nbformat": 2,
  "kernelspec": {
   "name": "python38264bitd8e9826763e841f9ae8315ef541c14c9",
   "display_name": "Python 3.8.2 64-bit"
  }
 },
 "nbformat": 4,
 "nbformat_minor": 2
}